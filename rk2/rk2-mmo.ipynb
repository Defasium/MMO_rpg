{
 "cells": [
  {
   "cell_type": "markdown",
   "metadata": {},
   "source": [
    "# Рубежный контроль №2\n",
    "\n",
    "## Ишков Денис Олегович, ИУ5-24М, 2021г.\n",
    "\n",
    "## Тема: Методы обработки текстов\n",
    "## Решение задачи классификации текстов.\n",
    "Необходимо решить задачу классификации текстов на основе любого выбранного Вами датасета (кроме примера, который рассматривался в лекции). Классификация может быть бинарной или многоклассовой. Целевой признак из выбранного Вами датасета может иметь любой физический смысл, примером является задача анализа тональности текста.\n",
    "\n",
    "Необходимо сформировать два варианта векторизации признаков - на основе CountVectorizer и на основе TfidfVectorizer.\n",
    "\n",
    "В качестве классификаторов необходимо использовать два классификатора по варианту для Вашей группы:\n",
    "\n",
    "Группа: ИУ5-24М\n",
    "\n",
    "Классификатор 1: KNeighborsClassifier\n",
    "\n",
    "Классификатор 2: Complement Naive Bayes (CNB)\n",
    "\n",
    "Для каждого метода необходимо оценить качество классификации. Сделайте вывод о том, какой вариант векторизации признаков в паре с каким классификатором показал лучшее качество."
   ]
  },
  {
   "cell_type": "markdown",
   "metadata": {},
   "source": [
    "## Датасет\n",
    "\n",
    "Бинарная классификация текста\n",
    "\n",
    "https://www.kaggle.com/blackmoon/russian-language-toxic-comments"
   ]
  },
  {
   "cell_type": "code",
   "execution_count": 2,
   "metadata": {},
   "outputs": [
    {
     "name": "stdout",
     "output_type": "stream",
     "text": [
      "Collecting wldhx.yadisk-direct\n",
      "  Downloading wldhx.yadisk_direct-0.0.6-py3-none-any.whl (4.5 kB)\n",
      "Requirement already satisfied: requests in /opt/conda/lib/python3.7/site-packages (from wldhx.yadisk-direct) (2.25.1)\n",
      "Requirement already satisfied: urllib3<1.27,>=1.21.1 in /opt/conda/lib/python3.7/site-packages (from requests->wldhx.yadisk-direct) (1.26.3)\n",
      "Requirement already satisfied: chardet<5,>=3.0.2 in /opt/conda/lib/python3.7/site-packages (from requests->wldhx.yadisk-direct) (3.0.4)\n",
      "Requirement already satisfied: idna<3,>=2.5 in /opt/conda/lib/python3.7/site-packages (from requests->wldhx.yadisk-direct) (2.10)\n",
      "Requirement already satisfied: certifi>=2017.4.17 in /opt/conda/lib/python3.7/site-packages (from requests->wldhx.yadisk-direct) (2020.12.5)\n",
      "Installing collected packages: wldhx.yadisk-direct\n",
      "Successfully installed wldhx.yadisk-direct-0.0.6\n",
      "  % Total    % Received % Xferd  Average Speed   Time    Time     Time  Current\n",
      "                                 Dload  Upload   Total   Spent    Left  Speed\n",
      "  0     0    0     0    0     0      0      0 --:--:--  0:00:01 --:--:--     0\n",
      "100 4560k  100 4560k    0     0  1279k      0  0:00:03  0:00:03 --:--:-- 1921k\n"
     ]
    }
   ],
   "source": [
    "# загрузка датасета\n",
    "!pip install wldhx.yadisk-direct\n",
    "!curl -L $(yadisk-direct https://disk.yandex.ru/d/wedARfrtMn-Y-Q) -o labeled.csv"
   ]
  },
  {
   "cell_type": "markdown",
   "metadata": {},
   "source": [
    "# Импорт нужных библиотек"
   ]
  },
  {
   "cell_type": "code",
   "execution_count": 104,
   "metadata": {},
   "outputs": [
    {
     "name": "stdout",
     "output_type": "stream",
     "text": [
      "[nltk_data] Downloading package punkt to /usr/share/nltk_data...\n",
      "[nltk_data]   Package punkt is already up-to-date!\n"
     ]
    }
   ],
   "source": [
    "import pandas as pd\n",
    "from sklearn.model_selection import train_test_split\n",
    "import nltk\n",
    "import string\n",
    "from nltk.corpus import stopwords\n",
    "from nltk.tokenize import word_tokenize\n",
    "from nltk.stem import SnowballStemmer\n",
    "nltk.download('punkt')\n",
    "from sklearn.pipeline import Pipeline\n",
    "from sklearn.naive_bayes import ComplementNB\n",
    "from sklearn.neighbors import KNeighborsClassifier\n",
    "from sklearn.feature_extraction.text import TfidfVectorizer, CountVectorizer\n",
    "from sklearn.metrics import precision_score, recall_score, precision_recall_curve, classification_report\n",
    "from matplotlib import pyplot as plt\n",
    "from sklearn.metrics import plot_precision_recall_curve\n",
    "import numpy as np\n",
    "from sklearn.model_selection import GridSearchCV"
   ]
  },
  {
   "cell_type": "markdown",
   "metadata": {},
   "source": [
    "# Анализ и обработка выбросов в данных"
   ]
  },
  {
   "cell_type": "code",
   "execution_count": 5,
   "metadata": {},
   "outputs": [
    {
     "data": {
      "text/html": [
       "<div>\n",
       "<style scoped>\n",
       "    .dataframe tbody tr th:only-of-type {\n",
       "        vertical-align: middle;\n",
       "    }\n",
       "\n",
       "    .dataframe tbody tr th {\n",
       "        vertical-align: top;\n",
       "    }\n",
       "\n",
       "    .dataframe thead th {\n",
       "        text-align: right;\n",
       "    }\n",
       "</style>\n",
       "<table border=\"1\" class=\"dataframe\">\n",
       "  <thead>\n",
       "    <tr style=\"text-align: right;\">\n",
       "      <th></th>\n",
       "      <th>toxic</th>\n",
       "    </tr>\n",
       "  </thead>\n",
       "  <tbody>\n",
       "    <tr>\n",
       "      <th>count</th>\n",
       "      <td>14412.000000</td>\n",
       "    </tr>\n",
       "    <tr>\n",
       "      <th>mean</th>\n",
       "      <td>0.334860</td>\n",
       "    </tr>\n",
       "    <tr>\n",
       "      <th>std</th>\n",
       "      <td>0.471958</td>\n",
       "    </tr>\n",
       "    <tr>\n",
       "      <th>min</th>\n",
       "      <td>0.000000</td>\n",
       "    </tr>\n",
       "    <tr>\n",
       "      <th>25%</th>\n",
       "      <td>0.000000</td>\n",
       "    </tr>\n",
       "    <tr>\n",
       "      <th>50%</th>\n",
       "      <td>0.000000</td>\n",
       "    </tr>\n",
       "    <tr>\n",
       "      <th>75%</th>\n",
       "      <td>1.000000</td>\n",
       "    </tr>\n",
       "    <tr>\n",
       "      <th>max</th>\n",
       "      <td>1.000000</td>\n",
       "    </tr>\n",
       "  </tbody>\n",
       "</table>\n",
       "</div>"
      ],
      "text/plain": [
       "              toxic\n",
       "count  14412.000000\n",
       "mean       0.334860\n",
       "std        0.471958\n",
       "min        0.000000\n",
       "25%        0.000000\n",
       "50%        0.000000\n",
       "75%        1.000000\n",
       "max        1.000000"
      ]
     },
     "execution_count": 5,
     "metadata": {},
     "output_type": "execute_result"
    }
   ],
   "source": [
    "df = pd.read_csv(\"labeled.csv\", sep=\",\")\n",
    "\n",
    "df.describe()"
   ]
  },
  {
   "cell_type": "code",
   "execution_count": 73,
   "metadata": {},
   "outputs": [
    {
     "data": {
      "text/plain": [
       "<AxesSubplot:ylabel='Frequency'>"
      ]
     },
     "execution_count": 73,
     "metadata": {},
     "output_type": "execute_result"
    },
    {
     "data": {
      "image/png": "[encoded data removed]",
      "text/plain": [
       "<Figure size 432x288 with 1 Axes>"
      ]
     },
     "metadata": {
      "needs_background": "light"
     },
     "output_type": "display_data"
    }
   ],
   "source": [
    "df.comment.str.split(' ').apply(len).plot(kind='hist', bins=50)"
   ]
  },
  {
   "cell_type": "markdown",
   "metadata": {},
   "source": [
    "Как видно из гистограммы, количество слов сообщений в данных распределено по экспоненциальному закону. Уберём \"хвост\""
   ]
  },
  {
   "cell_type": "code",
   "execution_count": 75,
   "metadata": {},
   "outputs": [
    {
     "data": {
      "text/plain": [
       "<AxesSubplot:ylabel='Frequency'>"
      ]
     },
     "execution_count": 75,
     "metadata": {},
     "output_type": "execute_result"
    },
    {
     "data": {
      "image/png": "[encoded data removed]",
      "text/plain": [
       "<Figure size 432x288 with 1 Axes>"
      ]
     },
     "metadata": {
      "needs_background": "light"
     },
     "output_type": "display_data"
    }
   ],
   "source": [
    "df = df[df.comment.str.split(' ').apply(len) < 50].copy()\n",
    "df.comment.str.split(' ').apply(len).plot(kind='hist', bins=50)"
   ]
  },
  {
   "cell_type": "code",
   "execution_count": 76,
   "metadata": {},
   "outputs": [
    {
     "data": {
      "text/plain": [
       "0    8102\n",
       "1    4419\n",
       "Name: toxic, dtype: int64"
      ]
     },
     "execution_count": 76,
     "metadata": {},
     "output_type": "execute_result"
    }
   ],
   "source": [
    "df[\"toxic\"] = df[\"toxic\"].apply(int)\n",
    "df[\"toxic\"].value_counts()"
   ]
  },
  {
   "cell_type": "markdown",
   "metadata": {},
   "source": [
    "### Разделим данные на обучающую и тестовую выборки"
   ]
  },
  {
   "cell_type": "code",
   "execution_count": 82,
   "metadata": {},
   "outputs": [],
   "source": [
    "train_df, test_df = train_test_split(df, test_size=500, stratify=df.toxic)"
   ]
  },
  {
   "cell_type": "code",
   "execution_count": 83,
   "metadata": {},
   "outputs": [
    {
     "data": {
      "text/plain": [
       "(0    324\n",
       " 1    176\n",
       " Name: toxic, dtype: int64,\n",
       " 0    7778\n",
       " 1    4243\n",
       " Name: toxic, dtype: int64)"
      ]
     },
     "execution_count": 83,
     "metadata": {},
     "output_type": "execute_result"
    }
   ],
   "source": [
    "test_df[\"toxic\"].value_counts(), train_df[\"toxic\"].value_counts()"
   ]
  },
  {
   "cell_type": "markdown",
   "metadata": {},
   "source": [
    "# Предобработка текста"
   ]
  },
  {
   "cell_type": "code",
   "execution_count": 84,
   "metadata": {},
   "outputs": [],
   "source": [
    "sentence_example = df.iloc[-1][\"comment\"]\n",
    "tokens = word_tokenize(sentence_example, language=\"russian\")\n",
    "tokens_without_punctuation = [i for i in tokens if i not in string.punctuation]\n",
    "russian_stop_words = stopwords.words(\"russian\")\n",
    "tokens_without_stop_words_and_punctuation = [i for i in tokens_without_punctuation if i not in russian_stop_words]\n",
    "snowball = SnowballStemmer(language=\"russian\")\n",
    "stemmed_tokens = [snowball.stem(i) for i in tokens_without_stop_words_and_punctuation]"
   ]
  },
  {
   "cell_type": "code",
   "execution_count": 85,
   "metadata": {},
   "outputs": [
    {
     "name": "stdout",
     "output_type": "stream",
     "text": [
      "Исходный текст: До сих пор пересматриваю его видео. Орамбо кстати на своем канале пилит похожий контент, но качеством похуже, там же и Шуран не редко светится, храню хрупкую надежду что когда-то он вернется, такая годнота ведь.\n",
      "\n",
      "-----------------\n",
      "Токены: ['До', 'сих', 'пор', 'пересматриваю', 'его', 'видео', '.', 'Орамбо', 'кстати', 'на', 'своем', 'канале', 'пилит', 'похожий', 'контент', ',', 'но', 'качеством', 'похуже', ',', 'там', 'же', 'и', 'Шуран', 'не', 'редко', 'светится', ',', 'храню', 'хрупкую', 'надежду', 'что', 'когда-то', 'он', 'вернется', ',', 'такая', 'годнота', 'ведь', '.']\n",
      "-----------------\n",
      "Токены без пунктуации: ['До', 'сих', 'пор', 'пересматриваю', 'его', 'видео', 'Орамбо', 'кстати', 'на', 'своем', 'канале', 'пилит', 'похожий', 'контент', 'но', 'качеством', 'похуже', 'там', 'же', 'и', 'Шуран', 'не', 'редко', 'светится', 'храню', 'хрупкую', 'надежду', 'что', 'когда-то', 'он', 'вернется', 'такая', 'годнота', 'ведь']\n",
      "-----------------\n",
      "Токены без пунктуации и стоп слов: ['До', 'сих', 'пор', 'пересматриваю', 'видео', 'Орамбо', 'кстати', 'своем', 'канале', 'пилит', 'похожий', 'контент', 'качеством', 'похуже', 'Шуран', 'редко', 'светится', 'храню', 'хрупкую', 'надежду', 'когда-то', 'вернется', 'такая', 'годнота']\n",
      "-----------------\n",
      "Токены после стемминга: ['до', 'сих', 'пор', 'пересматрива', 'виде', 'орамб', 'кстат', 'сво', 'канал', 'пил', 'похож', 'контент', 'качеств', 'похуж', 'шура', 'редк', 'свет', 'хран', 'хрупк', 'надежд', 'когда-т', 'вернет', 'так', 'годнот']\n",
      "-----------------\n"
     ]
    }
   ],
   "source": [
    "print(f\"Исходный текст: {sentence_example}\")\n",
    "print(\"-----------------\")\n",
    "print(f\"Токены: {tokens}\")\n",
    "print(\"-----------------\")\n",
    "print(f\"Токены без пунктуации: {tokens_without_punctuation}\")\n",
    "print(\"-----------------\")\n",
    "print(f\"Токены без пунктуации и стоп слов: {tokens_without_stop_words_and_punctuation}\")\n",
    "print(\"-----------------\")\n",
    "print(f\"Токены после стемминга: {stemmed_tokens}\")\n",
    "print(\"-----------------\")"
   ]
  },
  {
   "cell_type": "code",
   "execution_count": 86,
   "metadata": {},
   "outputs": [
    {
     "data": {
      "text/plain": [
       "['до',\n",
       " 'сих',\n",
       " 'пор',\n",
       " 'пересматрива',\n",
       " 'виде',\n",
       " 'орамб',\n",
       " 'кстат',\n",
       " 'сво',\n",
       " 'канал',\n",
       " 'пил',\n",
       " 'похож',\n",
       " 'контент',\n",
       " 'качеств',\n",
       " 'похуж',\n",
       " 'шура',\n",
       " 'редк',\n",
       " 'свет',\n",
       " 'хран',\n",
       " 'хрупк',\n",
       " 'надежд',\n",
       " 'когда-т',\n",
       " 'вернет',\n",
       " 'так',\n",
       " 'годнот']"
      ]
     },
     "execution_count": 86,
     "metadata": {},
     "output_type": "execute_result"
    }
   ],
   "source": [
    "snowball = SnowballStemmer(language=\"russian\")\n",
    "russian_stop_words = stopwords.words(\"russian\")\n",
    "\n",
    "def tokenize_sentence(sentence: str, remove_stop_words: bool = True):\n",
    "    tokens = word_tokenize(sentence, language=\"russian\")\n",
    "    tokens = [i for i in tokens if i not in string.punctuation]\n",
    "    if remove_stop_words:\n",
    "        tokens = [i for i in tokens if i not in russian_stop_words]\n",
    "    tokens = [snowball.stem(i) for i in tokens]\n",
    "    return tokens\n",
    "\n",
    "tokenize_sentence(sentence_example)"
   ]
  },
  {
   "cell_type": "markdown",
   "metadata": {},
   "source": [
    "## Классификатор 1: Complement Naive Bayes"
   ]
  },
  {
   "cell_type": "markdown",
   "metadata": {},
   "source": [
    "### CountVectorizer"
   ]
  },
  {
   "cell_type": "code",
   "execution_count": 140,
   "metadata": {},
   "outputs": [
    {
     "name": "stdout",
     "output_type": "stream",
     "text": [
      "{'alpha': 0.44499999999999995, 'norm': False}\n",
      "              precision    recall  f1-score   support\n",
      "\n",
      "           0     0.8899    0.9228    0.9061       324\n",
      "           1     0.8476    0.7898    0.8176       176\n",
      "\n",
      "    accuracy                         0.8760       500\n",
      "   macro avg     0.8687    0.8563    0.8619       500\n",
      "weighted avg     0.8750    0.8760    0.8749       500\n",
      "\n"
     ]
    },
    {
     "data": {
      "image/png": "[encoded data removed]",
      "text/plain": [
       "<Figure size 432x288 with 1 Axes>"
      ]
     },
     "metadata": {
      "needs_background": "light"
     },
     "output_type": "display_data"
    }
   ],
   "source": [
    "grid_pipeline = Pipeline([\n",
    "    (\"vectorizer\", CountVectorizer(tokenizer=lambda x: tokenize_sentence(x, remove_stop_words=True))),\n",
    "    (\"model\", \n",
    "     GridSearchCV(\n",
    "        ComplementNB(alpha=1.0, norm=False),\n",
    "        param_grid={'alpha': [0.35+5e-3*i for i in range(20)],\n",
    "                    'norm': [True, False]},\n",
    "        cv=5,\n",
    "        verbose=0,\n",
    "        scoring='roc_auc',\n",
    "        )\n",
    "    )\n",
    "])\n",
    "\n",
    "grid_pipeline.fit(train_df[\"comment\"], train_df[\"toxic\"])\n",
    "print(grid_pipeline['model'].best_params_)\n",
    "model_pipeline = Pipeline([\n",
    "    (\"vectorizer\", TfidfVectorizer(tokenizer=lambda x: tokenize_sentence(x, remove_stop_words=True))),\n",
    "    (\"model\", ComplementNB(**grid_pipeline['model'].best_params_),)\n",
    "]\n",
    ")\n",
    "\n",
    "model_pipeline.fit(train_df[\"comment\"], train_df[\"toxic\"])\n",
    "prec_c_10, rec_c_10, thresholds_c_10 = precision_recall_curve(y_true=test_df[\"toxic\"],\n",
    "                                                              probas_pred=model_pipeline.predict_proba(test_df[\"comment\"])[:, 1])\n",
    "plot_precision_recall_curve(estimator=model_pipeline, X=test_df[\"comment\"], y=test_df[\"toxic\"])\n",
    "print(classification_report(y_true=test_df[\"toxic\"],\n",
    "                            y_pred=model_pipeline.predict(test_df[\"comment\"]),\n",
    "                            digits=4))"
   ]
  },
  {
   "cell_type": "markdown",
   "metadata": {},
   "source": [
    "### TfidfVectorizer"
   ]
  },
  {
   "cell_type": "code",
   "execution_count": 141,
   "metadata": {},
   "outputs": [
    {
     "name": "stdout",
     "output_type": "stream",
     "text": [
      "{'alpha': 0.41, 'norm': False}\n",
      "              precision    recall  f1-score   support\n",
      "\n",
      "           0     0.8896    0.9198    0.9044       324\n",
      "           1     0.8424    0.7898    0.8152       176\n",
      "\n",
      "    accuracy                         0.8740       500\n",
      "   macro avg     0.8660    0.8548    0.8598       500\n",
      "weighted avg     0.8730    0.8740    0.8730       500\n",
      "\n"
     ]
    },
    {
     "data": {
      "image/png": "[encoded data removed]",
      "text/plain": [
       "<Figure size 432x288 with 1 Axes>"
      ]
     },
     "metadata": {
      "needs_background": "light"
     },
     "output_type": "display_data"
    }
   ],
   "source": [
    "grid_pipeline = Pipeline([\n",
    "    (\"vectorizer\", TfidfVectorizer(tokenizer=lambda x: tokenize_sentence(x, remove_stop_words=True))),\n",
    "    (\"model\", \n",
    "     GridSearchCV(\n",
    "        ComplementNB(alpha=1.0, norm=False),\n",
    "        param_grid={'alpha': [0.35+5e-3*i for i in range(20)],\n",
    "                    'norm': [True, False]},\n",
    "        cv=5,\n",
    "        verbose=0,\n",
    "        scoring='roc_auc',\n",
    "        )\n",
    "    )\n",
    "])\n",
    "\n",
    "grid_pipeline.fit(train_df[\"comment\"], train_df[\"toxic\"])\n",
    "print(grid_pipeline['model'].best_params_)\n",
    "model_pipeline = Pipeline([\n",
    "    (\"vectorizer\", TfidfVectorizer(tokenizer=lambda x: tokenize_sentence(x, remove_stop_words=True))),\n",
    "    (\"model\", ComplementNB(**grid_pipeline['model'].best_params_),)\n",
    "]\n",
    ")\n",
    "\n",
    "model_pipeline.fit(train_df[\"comment\"], train_df[\"toxic\"])\n",
    "prec_c_10, rec_c_10, thresholds_c_10 = precision_recall_curve(y_true=test_df[\"toxic\"],\n",
    "                                                              probas_pred=model_pipeline.predict_proba(test_df[\"comment\"])[:, 1])\n",
    "plot_precision_recall_curve(estimator=model_pipeline, X=test_df[\"comment\"], y=test_df[\"toxic\"])\n",
    "print(classification_report(y_true=test_df[\"toxic\"],\n",
    "                            y_pred=model_pipeline.predict(test_df[\"comment\"]),\n",
    "                            digits=4))"
   ]
  },
  {
   "cell_type": "markdown",
   "metadata": {},
   "source": [
    "## Классификатор 2: KNearestNeighbors"
   ]
  },
  {
   "cell_type": "markdown",
   "metadata": {},
   "source": [
    "### CountVectorizer"
   ]
  },
  {
   "cell_type": "code",
   "execution_count": 142,
   "metadata": {},
   "outputs": [
    {
     "name": "stdout",
     "output_type": "stream",
     "text": [
      "Fitting 5 folds for each of 132 candidates, totalling 660 fits\n",
      "{'metric': 'cosine', 'n_neighbors': 62, 'weights': 'distance'}\n",
      "              precision    recall  f1-score   support\n",
      "\n",
      "           0     0.7778    0.9722    0.8642       324\n",
      "           1     0.9053    0.4886    0.6347       176\n",
      "\n",
      "    accuracy                         0.8020       500\n",
      "   macro avg     0.8415    0.7304    0.7494       500\n",
      "weighted avg     0.8227    0.8020    0.7834       500\n",
      "\n"
     ]
    },
    {
     "data": {
      "image/png": "[encoded data removed]",
      "text/plain": [
       "<Figure size 432x288 with 1 Axes>"
      ]
     },
     "metadata": {
      "needs_background": "light"
     },
     "output_type": "display_data"
    }
   ],
   "source": [
    "grid_pipeline = Pipeline([\n",
    "    (\"vectorizer\", CountVectorizer(tokenizer=lambda x: tokenize_sentence(x, remove_stop_words=True))),\n",
    "    (\"model\", \n",
    "     GridSearchCV(\n",
    "        KNeighborsClassifier(),\n",
    "        param_grid={'n_neighbors': [i for i in range(31, 64, 1)],\n",
    "                    'weights': ['uniform', 'distance'],\n",
    "                    'metric': ['euclidean', 'cosine',]},\n",
    "        cv=5,\n",
    "        verbose=1,\n",
    "        scoring='roc_auc', #'f1'\n",
    "        )\n",
    "    )\n",
    "])\n",
    "\n",
    "grid_pipeline.fit(train_df[\"comment\"], train_df[\"toxic\"])\n",
    "print(grid_pipeline['model'].best_params_)\n",
    "model_pipeline = Pipeline([\n",
    "    (\"vectorizer\", TfidfVectorizer(tokenizer=lambda x: tokenize_sentence(x, remove_stop_words=True))),\n",
    "    (\"model\", KNeighborsClassifier(**grid_pipeline['model'].best_params_),)\n",
    "]\n",
    ")\n",
    "\n",
    "model_pipeline.fit(train_df[\"comment\"], train_df[\"toxic\"])\n",
    "prec_c_10, rec_c_10, thresholds_c_10 = precision_recall_curve(y_true=test_df[\"toxic\"],\n",
    "                                                              probas_pred=model_pipeline.predict_proba(test_df[\"comment\"])[:, 1])\n",
    "plot_precision_recall_curve(estimator=model_pipeline, X=test_df[\"comment\"], y=test_df[\"toxic\"])\n",
    "print(classification_report(y_true=test_df[\"toxic\"],\n",
    "                            y_pred=model_pipeline.predict(test_df[\"comment\"]),\n",
    "                            digits=4))"
   ]
  },
  {
   "cell_type": "markdown",
   "metadata": {},
   "source": [
    "### Какие параметры лучшие?"
   ]
  },
  {
   "cell_type": "code",
   "execution_count": 143,
   "metadata": {},
   "outputs": [
    {
     "data": {
      "text/html": [
       "<div>\n",
       "<style scoped>\n",
       "    .dataframe tbody tr th:only-of-type {\n",
       "        vertical-align: middle;\n",
       "    }\n",
       "\n",
       "    .dataframe tbody tr th {\n",
       "        vertical-align: top;\n",
       "    }\n",
       "\n",
       "    .dataframe thead th {\n",
       "        text-align: right;\n",
       "    }\n",
       "</style>\n",
       "<table border=\"1\" class=\"dataframe\">\n",
       "  <thead>\n",
       "    <tr style=\"text-align: right;\">\n",
       "      <th></th>\n",
       "      <th>param_metric</th>\n",
       "      <th>param_n_neighbors</th>\n",
       "      <th>param_weights</th>\n",
       "      <th>mean_test_score</th>\n",
       "    </tr>\n",
       "  </thead>\n",
       "  <tbody>\n",
       "    <tr>\n",
       "      <th>129</th>\n",
       "      <td>cosine</td>\n",
       "      <td>62</td>\n",
       "      <td>distance</td>\n",
       "      <td>0.865295</td>\n",
       "    </tr>\n",
       "    <tr>\n",
       "      <th>131</th>\n",
       "      <td>cosine</td>\n",
       "      <td>63</td>\n",
       "      <td>distance</td>\n",
       "      <td>0.865283</td>\n",
       "    </tr>\n",
       "    <tr>\n",
       "      <th>127</th>\n",
       "      <td>cosine</td>\n",
       "      <td>61</td>\n",
       "      <td>distance</td>\n",
       "      <td>0.865031</td>\n",
       "    </tr>\n",
       "    <tr>\n",
       "      <th>130</th>\n",
       "      <td>cosine</td>\n",
       "      <td>63</td>\n",
       "      <td>uniform</td>\n",
       "      <td>0.865012</td>\n",
       "    </tr>\n",
       "    <tr>\n",
       "      <th>128</th>\n",
       "      <td>cosine</td>\n",
       "      <td>62</td>\n",
       "      <td>uniform</td>\n",
       "      <td>0.865002</td>\n",
       "    </tr>\n",
       "    <tr>\n",
       "      <th>125</th>\n",
       "      <td>cosine</td>\n",
       "      <td>60</td>\n",
       "      <td>distance</td>\n",
       "      <td>0.864925</td>\n",
       "    </tr>\n",
       "    <tr>\n",
       "      <th>123</th>\n",
       "      <td>cosine</td>\n",
       "      <td>59</td>\n",
       "      <td>distance</td>\n",
       "      <td>0.864745</td>\n",
       "    </tr>\n",
       "    <tr>\n",
       "      <th>126</th>\n",
       "      <td>cosine</td>\n",
       "      <td>61</td>\n",
       "      <td>uniform</td>\n",
       "      <td>0.864692</td>\n",
       "    </tr>\n",
       "    <tr>\n",
       "      <th>124</th>\n",
       "      <td>cosine</td>\n",
       "      <td>60</td>\n",
       "      <td>uniform</td>\n",
       "      <td>0.864582</td>\n",
       "    </tr>\n",
       "    <tr>\n",
       "      <th>119</th>\n",
       "      <td>cosine</td>\n",
       "      <td>57</td>\n",
       "      <td>distance</td>\n",
       "      <td>0.864509</td>\n",
       "    </tr>\n",
       "  </tbody>\n",
       "</table>\n",
       "</div>"
      ],
      "text/plain": [
       "    param_metric param_n_neighbors param_weights  mean_test_score\n",
       "129       cosine                62      distance         0.865295\n",
       "131       cosine                63      distance         0.865283\n",
       "127       cosine                61      distance         0.865031\n",
       "130       cosine                63       uniform         0.865012\n",
       "128       cosine                62       uniform         0.865002\n",
       "125       cosine                60      distance         0.864925\n",
       "123       cosine                59      distance         0.864745\n",
       "126       cosine                61       uniform         0.864692\n",
       "124       cosine                60       uniform         0.864582\n",
       "119       cosine                57      distance         0.864509"
      ]
     },
     "execution_count": 143,
     "metadata": {},
     "output_type": "execute_result"
    }
   ],
   "source": [
    "cols = ['param_metric', 'param_n_neighbors', 'param_weights', 'mean_test_score']\n",
    "pd.DataFrame(grid_pipeline['model'].cv_results_).sort_values(by='rank_test_score').loc[:, cols].head(10)"
   ]
  },
  {
   "cell_type": "markdown",
   "metadata": {},
   "source": [
    "### TFidfVectorizer"
   ]
  },
  {
   "cell_type": "code",
   "execution_count": 144,
   "metadata": {},
   "outputs": [
    {
     "name": "stdout",
     "output_type": "stream",
     "text": [
      "Fitting 5 folds for each of 68 candidates, totalling 340 fits\n",
      "{'metric': 'cosine', 'n_neighbors': 45, 'weights': 'uniform'}\n",
      "              precision    recall  f1-score   support\n",
      "\n",
      "           0     0.7834    0.9599    0.8627       324\n",
      "           1     0.8738    0.5114    0.6452       176\n",
      "\n",
      "    accuracy                         0.8020       500\n",
      "   macro avg     0.8286    0.7356    0.7539       500\n",
      "weighted avg     0.8152    0.8020    0.7861       500\n",
      "\n"
     ]
    },
    {
     "data": {
      "image/png": "[encoded data removed]",
      "text/plain": [
       "<Figure size 432x288 with 1 Axes>"
      ]
     },
     "metadata": {
      "needs_background": "light"
     },
     "output_type": "display_data"
    }
   ],
   "source": [
    "grid_pipeline = Pipeline([\n",
    "    (\"vectorizer\", TfidfVectorizer(tokenizer=lambda x: tokenize_sentence(x, remove_stop_words=True))),\n",
    "    (\"model\", \n",
    "     GridSearchCV(\n",
    "        KNeighborsClassifier(),\n",
    "        param_grid={'n_neighbors': [i for i in range(31, 64, 2)],\n",
    "                    'weights': ['uniform', 'distance'],\n",
    "                    'metric': ['euclidean', 'cosine',]},\n",
    "        cv=5,\n",
    "        verbose=1,\n",
    "        scoring='roc_auc', #'f1'\n",
    "        )\n",
    "    )\n",
    "])\n",
    "\n",
    "grid_pipeline.fit(train_df[\"comment\"], train_df[\"toxic\"])\n",
    "print(grid_pipeline['model'].best_params_)\n",
    "model_pipeline = Pipeline([\n",
    "    (\"vectorizer\", TfidfVectorizer(tokenizer=lambda x: tokenize_sentence(x, remove_stop_words=True))),\n",
    "    (\"model\", KNeighborsClassifier(**grid_pipeline['model'].best_params_),)\n",
    "]\n",
    ")\n",
    "\n",
    "model_pipeline.fit(train_df[\"comment\"], train_df[\"toxic\"])\n",
    "prec_c_10, rec_c_10, thresholds_c_10 = precision_recall_curve(y_true=test_df[\"toxic\"],\n",
    "                                                              probas_pred=model_pipeline.predict_proba(test_df[\"comment\"])[:, 1])\n",
    "plot_precision_recall_curve(estimator=model_pipeline, X=test_df[\"comment\"], y=test_df[\"toxic\"])\n",
    "print(classification_report(y_true=test_df[\"toxic\"],\n",
    "                            y_pred=model_pipeline.predict(test_df[\"comment\"]),\n",
    "                            digits=4))"
   ]
  },
  {
   "cell_type": "markdown",
   "metadata": {},
   "source": [
    "### Какие параметры лучшие?"
   ]
  },
  {
   "cell_type": "code",
   "execution_count": 145,
   "metadata": {},
   "outputs": [
    {
     "data": {
      "text/html": [
       "<div>\n",
       "<style scoped>\n",
       "    .dataframe tbody tr th:only-of-type {\n",
       "        vertical-align: middle;\n",
       "    }\n",
       "\n",
       "    .dataframe tbody tr th {\n",
       "        vertical-align: top;\n",
       "    }\n",
       "\n",
       "    .dataframe thead th {\n",
       "        text-align: right;\n",
       "    }\n",
       "</style>\n",
       "<table border=\"1\" class=\"dataframe\">\n",
       "  <thead>\n",
       "    <tr style=\"text-align: right;\">\n",
       "      <th></th>\n",
       "      <th>param_metric</th>\n",
       "      <th>param_n_neighbors</th>\n",
       "      <th>param_weights</th>\n",
       "      <th>mean_test_score</th>\n",
       "    </tr>\n",
       "  </thead>\n",
       "  <tbody>\n",
       "    <tr>\n",
       "      <th>48</th>\n",
       "      <td>cosine</td>\n",
       "      <td>45</td>\n",
       "      <td>uniform</td>\n",
       "      <td>0.917287</td>\n",
       "    </tr>\n",
       "    <tr>\n",
       "      <th>50</th>\n",
       "      <td>cosine</td>\n",
       "      <td>47</td>\n",
       "      <td>uniform</td>\n",
       "      <td>0.917125</td>\n",
       "    </tr>\n",
       "    <tr>\n",
       "      <th>54</th>\n",
       "      <td>cosine</td>\n",
       "      <td>51</td>\n",
       "      <td>uniform</td>\n",
       "      <td>0.917124</td>\n",
       "    </tr>\n",
       "    <tr>\n",
       "      <th>46</th>\n",
       "      <td>cosine</td>\n",
       "      <td>43</td>\n",
       "      <td>uniform</td>\n",
       "      <td>0.916920</td>\n",
       "    </tr>\n",
       "    <tr>\n",
       "      <th>44</th>\n",
       "      <td>cosine</td>\n",
       "      <td>41</td>\n",
       "      <td>uniform</td>\n",
       "      <td>0.916891</td>\n",
       "    </tr>\n",
       "    <tr>\n",
       "      <th>42</th>\n",
       "      <td>cosine</td>\n",
       "      <td>39</td>\n",
       "      <td>uniform</td>\n",
       "      <td>0.916859</td>\n",
       "    </tr>\n",
       "    <tr>\n",
       "      <th>56</th>\n",
       "      <td>cosine</td>\n",
       "      <td>53</td>\n",
       "      <td>uniform</td>\n",
       "      <td>0.916817</td>\n",
       "    </tr>\n",
       "    <tr>\n",
       "      <th>58</th>\n",
       "      <td>cosine</td>\n",
       "      <td>55</td>\n",
       "      <td>uniform</td>\n",
       "      <td>0.916817</td>\n",
       "    </tr>\n",
       "    <tr>\n",
       "      <th>60</th>\n",
       "      <td>cosine</td>\n",
       "      <td>57</td>\n",
       "      <td>uniform</td>\n",
       "      <td>0.916806</td>\n",
       "    </tr>\n",
       "    <tr>\n",
       "      <th>52</th>\n",
       "      <td>cosine</td>\n",
       "      <td>49</td>\n",
       "      <td>uniform</td>\n",
       "      <td>0.916661</td>\n",
       "    </tr>\n",
       "  </tbody>\n",
       "</table>\n",
       "</div>"
      ],
      "text/plain": [
       "   param_metric param_n_neighbors param_weights  mean_test_score\n",
       "48       cosine                45       uniform         0.917287\n",
       "50       cosine                47       uniform         0.917125\n",
       "54       cosine                51       uniform         0.917124\n",
       "46       cosine                43       uniform         0.916920\n",
       "44       cosine                41       uniform         0.916891\n",
       "42       cosine                39       uniform         0.916859\n",
       "56       cosine                53       uniform         0.916817\n",
       "58       cosine                55       uniform         0.916817\n",
       "60       cosine                57       uniform         0.916806\n",
       "52       cosine                49       uniform         0.916661"
      ]
     },
     "execution_count": 145,
     "metadata": {},
     "output_type": "execute_result"
    }
   ],
   "source": [
    "cols = ['param_metric', 'param_n_neighbors', 'param_weights', 'mean_test_score']\n",
    "pd.DataFrame(grid_pipeline['model'].cv_results_).sort_values(by='rank_test_score').loc[:, cols].head(10)"
   ]
  },
  {
   "cell_type": "markdown",
   "metadata": {},
   "source": [
    "# Выводы"
   ]
  },
  {
   "cell_type": "markdown",
   "metadata": {},
   "source": [
    "|                 | ComplementNB | KNN Classifier |\n",
    "|-----------------|--------------|----------------|\n",
    "| CountVectorizer | 0.8749       | 0.7834         |\n",
    "| TfIdfVectorizer | 0.8730       | 0.7861         |\n",
    "\n",
    "Лучше всего по f1-мере показала себя связка CountVectorizer + ComplementNB."
   ]
  }
 ],
 "metadata": {
  "kernelspec": {
   "display_name": "Python 3",
   "language": "python",
   "name": "python3"
  },
  "language_info": {
   "codemirror_mode": {
    "name": "ipython",
    "version": 3
   },
   "file_extension": ".py",
   "mimetype": "text/x-python",
   "name": "python",
   "nbconvert_exporter": "python",
   "pygments_lexer": "ipython3",
   "version": "3.6.5"
  }
 },
 "nbformat": 4,
 "nbformat_minor": 4
}
